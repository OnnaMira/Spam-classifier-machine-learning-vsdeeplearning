{
  "nbformat": 4,
  "nbformat_minor": 0,
  "metadata": {
    "colab": {
      "name": "IARN 97%",
      "provenance": [],
      "collapsed_sections": [
        "5O-dULaLmnk2"
      ]
    },
    "kernelspec": {
      "name": "python3",
      "display_name": "Python 3"
    },
    "language_info": {
      "name": "python"
    },
    "gpuClass": "standard"
  },
  "cells": [
    {
      "cell_type": "code",
      "execution_count": 114,
      "metadata": {
        "id": "gqck6wjUAH-t"
      },
      "outputs": [],
      "source": [
        "#Importation des libraires\n",
        "import urllib.request\n",
        "import sys\n",
        "import tarfile\n",
        "import os\n",
        "import numpy\n",
        "import sklearn\n",
        "import email\n",
        "import email.policy\n",
        "import numpy as np\n",
        "import re\n",
        "from html import unescape\n",
        "from sklearn.pipeline import Pipeline\n",
        "from sklearn.base import BaseEstimator, TransformerMixin\n",
        "from sklearn.feature_extraction.text import CountVectorizer\n",
        "from sklearn.model_selection import train_test_split\n",
        "from string import punctuation\n",
        "from nltk.stem.snowball import SnowballStemmer\n",
        "import collections\n",
        "from sklearn.svm import SVC\n",
        "from sklearn.feature_extraction.text import CountVectorizer\n",
        "from sklearn.model_selection import train_test_split\n",
        "from sklearn.pipeline import make_pipeline\n",
        "from sklearn.preprocessing import StandardScaler\n",
        "from sklearn import metrics\n",
        "from sklearn.metrics import confusion_matrix\n",
        "from sklearn.naive_bayes import GaussianNB\n",
        "from sklearn.naive_bayes import MultinomialNB\n",
        "from sklearn.linear_model import LogisticRegression\n",
        "from sklearn.neural_network import MLPClassifier\n",
        "from sklearn import tree\n",
        "import matplotlib.pyplot as plt\n"
      ]
    },
    {
      "cell_type": "markdown",
      "source": [
        "# **Importing/Loading data**"
      ],
      "metadata": {
        "id": "F6mq0fvnmjOR"
      }
    },
    {
      "cell_type": "code",
      "source": [
        "#Focntion pour telecharger la base d'apprentissage et l'extraire\n",
        "def download_data(fns, urls, p, type):\n",
        "\n",
        "    for (filename, url) in zip(fns, urls):\n",
        "        path = os.path.join(p, filename)\n",
        "        if not os.path.isfile(path):\n",
        "            urllib.request.urlretrieve(url, path)\n",
        "        tar_bz2_file = tarfile.open(path)\n",
        "        \n",
        "        # remove the path by reset it\n",
        "        members = []\n",
        "        for member in tar_bz2_file.getmembers():\n",
        "            if member.isreg():\n",
        "                member.name = os.path.basename(member.name) \n",
        "                members.append(member)\n",
        "        tar_bz2_file.extractall(path=p+type, members=members)\n",
        "        tar_bz2_file.close()\n",
        "    "
      ],
      "metadata": {
        "id": "5o2lr1-qqXTX"
      },
      "execution_count": 115,
      "outputs": []
    },
    {
      "cell_type": "code",
      "source": [
        "#Liens de telechargement Spam/Non Spam(Ham)\n",
        "\n",
        "DOWNLOAD_ROOT = \"https://spamassassin.apache.org/old/publiccorpus/\"\n",
        "\n",
        "HAM1_URL = DOWNLOAD_ROOT + \"20021010_easy_ham.tar.bz2\"\n",
        "\n",
        "HAM3_URL = DOWNLOAD_ROOT + \"20030228_easy_ham_2.tar.bz2\"\n",
        "\n",
        "HAM5_URL = DOWNLOAD_ROOT + \"20030228_hard_ham.tar.bz2\"\n",
        "\n",
        "HAM_URL = [HAM1_URL, HAM3_URL,HAM5_URL]\n",
        "\n",
        "HAM_FILENAME = [\"ham1.tar.bz2\",  \"ham3.tar.bz2\",\"ham5.tar.bz2\",]\n",
        "\n",
        "\n",
        "SPAM1_URL = DOWNLOAD_ROOT + \"20021010_spam.tar.bz2 \"\n",
        "\n",
        "SPAM4_URL = DOWNLOAD_ROOT + \"20050311_spam_2.tar.bz2\"\n",
        "\n",
        "SPAM_URL = [SPAM1_URL,SPAM4_URL]\n",
        "\n",
        "SPAM_FILENAME = [\"spam1.tar.bz2\", \"spam4.tar.bz2\"]\n",
        "\n",
        "PATH = \"./data/\"\n",
        "\n",
        "if not os.path.isdir(PATH):\n",
        "  os.makedirs(PATH)\n",
        "  \n",
        "download_data(SPAM_FILENAME, SPAM_URL, PATH, \"spam\")\n",
        "\n",
        "download_data(HAM_FILENAME, HAM_URL, PATH, \"ham\")"
      ],
      "metadata": {
        "id": "cSTt4bxXqcdw"
      },
      "execution_count": 116,
      "outputs": []
    },
    {
      "cell_type": "code",
      "source": [
        "def load_emails(directory, filename):\n",
        "    \n",
        "    with open(os.path.join(directory, filename), \"rb\") as f:\n",
        "      \n",
        "        return email.parser.BytesParser(policy=email.policy.default).parse(f)"
      ],
      "metadata": {
        "id": "46hLD_wfqjpI"
      },
      "execution_count": 117,
      "outputs": []
    },
    {
      "cell_type": "code",
      "source": [
        "ham_filenames = [name for name in sorted(os.listdir(\"./data/ham\")) if name != 'cmds']\n",
        "spam_filenames = [name for name in sorted(os.listdir(\"./data/spam\")) if name != 'cmds']\n",
        "\n",
        "ham_emails = [load_emails(\"./data/ham\", filename=name) for name in ham_filenames]\n",
        "spam_emails = [load_emails(\"./data/spam\", filename=name) for name in spam_filenames]\n",
        "\n",
        "X = np.array(ham_emails + spam_emails, dtype=object)\n",
        "y = np.array([0] * len(ham_emails) + [1] * len(spam_emails))\n",
        "\n"
      ],
      "metadata": {
        "id": "1YdjLoSPqlaA"
      },
      "execution_count": 118,
      "outputs": []
    },
    {
      "cell_type": "code",
      "source": [
        "X.shape, y.shape\n"
      ],
      "metadata": {
        "colab": {
          "base_uri": "https://localhost:8080/"
        },
        "id": "ElVLmMuWqpog",
        "outputId": "6a3e1ef7-8102-400c-e0e5-c8cc8899d490"
      },
      "execution_count": 119,
      "outputs": [
        {
          "output_type": "execute_result",
          "data": {
            "text/plain": [
              "((6098,), (6098,))"
            ]
          },
          "metadata": {},
          "execution_count": 119
        }
      ]
    },
    {
      "cell_type": "markdown",
      "source": [
        "# **Data Visualisation**"
      ],
      "metadata": {
        "id": "qkvHYW7wJ94d"
      }
    },
    {
      "cell_type": "code",
      "source": [
        "import matplotlib.pyplot as plt\n",
        "import seaborn as sns\n",
        "ham = np.array(ham_emails)\n",
        "spam = np.array(spam_emails)\n",
        "\n",
        "colors =['blue','red']\n",
        "\n",
        "plt.figure(figsize=(8, 5))\n",
        "sns.countplot(x = ['ham']*len(ham) + ['spam']*len(spam), palette=colors)\n",
        "plt.show"
      ],
      "metadata": {
        "colab": {
          "base_uri": "https://localhost:8080/",
          "height": 427
        },
        "id": "kvaQPabUKC8G",
        "outputId": "97e49284-076b-4de5-b29b-550b133ffbeb"
      },
      "execution_count": 120,
      "outputs": [
        {
          "output_type": "stream",
          "name": "stderr",
          "text": [
            "/usr/local/lib/python3.7/dist-packages/ipykernel_launcher.py:3: VisibleDeprecationWarning: Creating an ndarray from ragged nested sequences (which is a list-or-tuple of lists-or-tuples-or ndarrays with different lengths or shapes) is deprecated. If you meant to do this, you must specify 'dtype=object' when creating the ndarray.\n",
            "  This is separate from the ipykernel package so we can avoid doing imports until\n",
            "/usr/local/lib/python3.7/dist-packages/ipykernel_launcher.py:4: VisibleDeprecationWarning: Creating an ndarray from ragged nested sequences (which is a list-or-tuple of lists-or-tuples-or ndarrays with different lengths or shapes) is deprecated. If you meant to do this, you must specify 'dtype=object' when creating the ndarray.\n",
            "  after removing the cwd from sys.path.\n"
          ]
        },
        {
          "output_type": "execute_result",
          "data": {
            "text/plain": [
              "<function matplotlib.pyplot.show>"
            ]
          },
          "metadata": {},
          "execution_count": 120
        },
        {
          "output_type": "display_data",
          "data": {
            "text/plain": [
              "<Figure size 576x360 with 1 Axes>"
            ],
            "image/png": "[encoded data removed]"
          },
          "metadata": {
            "needs_background": "light"
          }
        }
      ]
    },
    {
      "cell_type": "markdown",
      "source": [
        "# **Pre processing**"
      ],
      "metadata": {
        "id": "5O-dULaLmnk2"
      }
    },
    {
      "cell_type": "markdown",
      "source": [
        "Les emails importes ne sont pas lisibles directement, il faut donc une fonction qui permet leur lecture"
      ],
      "metadata": {
        "id": "IO2UiVnWrR5A"
      }
    },
    {
      "cell_type": "code",
      "source": [
        "#print(X.tostring())"
      ],
      "metadata": {
        "id": "KJwJzwuzrdEC"
      },
      "execution_count": 164,
      "outputs": []
    },
    {
      "cell_type": "code",
      "source": [
        "#Convertir HTML en texte lisible\n",
        "def html_to_text(html):\n",
        "\n",
        "    text = re.sub(r'<head.*?>.*?</head>', '', html, flags=re.M | re.S | re.I)\n",
        "    text = re.sub(r'<a\\s.*?>', ' HYPERLINK ', text, flags=re.M | re.S | re.I)\n",
        "    text = re.sub(r'<.*?>', '', text, flags=re.M | re.S)\n",
        "    text = re.sub(r'(\\s*\\n)+', '\\n', text, flags=re.M | re.S)\n",
        "    \n",
        "    return unescape(text) \n"
      ],
      "metadata": {
        "id": "rye-QDo4lUqt"
      },
      "execution_count": 122,
      "outputs": []
    },
    {
      "cell_type": "code",
      "source": [
        "#Convertir les emails en texte lisible\n",
        "def message_to_text(email):\n",
        "    \n",
        "    html = None\n",
        "    for entity in email.walk():\n",
        "\n",
        "        #Quelques emails ont plusieurs parties, chaque partie est traitee separemmenet \n",
        "        entity_type = entity.get_content_type()\n",
        "        if not entity_type in (\"text/plain\", \"text/html\"):\n",
        "            continue\n",
        "        \n",
        "        try:\n",
        "            content = entity.get_content()\n",
        "            \n",
        "        except: #Parfois ceci est impossible pour des raisons d'encodage\n",
        "            content = str(entity.get_payload())\n",
        "        if entity_type == \"text/plain\":\n",
        "            return content\n",
        "        else:\n",
        "            html = content\n",
        "    if html:\n",
        "        return html_to_text(html)"
      ],
      "metadata": {
        "id": "yLxW2FpB9KGR"
      },
      "execution_count": 123,
      "outputs": []
    },
    {
      "cell_type": "markdown",
      "source": [
        "**Minuscule**"
      ],
      "metadata": {
        "id": "3B4tgTxAtDLQ"
      }
    },
    {
      "cell_type": "code",
      "source": [
        "def minuscule(texte):\n",
        "  \n",
        "  return(texte.lower())"
      ],
      "metadata": {
        "id": "YIajz49TtB0x"
      },
      "execution_count": 124,
      "outputs": []
    },
    {
      "cell_type": "markdown",
      "source": [
        "**Suppression de balises HTML**"
      ],
      "metadata": {
        "id": "3lKFuJOpuRaX"
      }
    },
    {
      "cell_type": "code",
      "source": [
        "def replace_html(texte):\n",
        "  \n",
        "  return re.sub('<[^<>]+>', ' ', texte)"
      ],
      "metadata": {
        "id": "G7ut70crmnVW"
      },
      "execution_count": 125,
      "outputs": []
    },
    {
      "cell_type": "markdown",
      "source": [
        "**Normalisation des URL**"
      ],
      "metadata": {
        "id": "l0T0q0L-uTeA"
      }
    },
    {
      "cell_type": "code",
      "source": [
        "def replace_urls(texte):\n",
        "      \n",
        "    return re.sub('(http|https)://[^\\s]*', 'httpaddr', texte)"
      ],
      "metadata": {
        "id": "ujzaWQiJukaw"
      },
      "execution_count": 126,
      "outputs": []
    },
    {
      "cell_type": "markdown",
      "source": [
        "**Normalisation des adresses e-mail**"
      ],
      "metadata": {
        "id": "dmzLneRzuUD4"
      }
    },
    {
      "cell_type": "code",
      "source": [
        "def replace_emails(texte):\n",
        "    \n",
        "    return re.sub('([A-Za-z0-9._%+-]+@[A-Za-z0-9.-]+\\.[A-Za-z]{2,})', \"emailaddr\", texte)"
      ],
      "metadata": {
        "id": "SLnqCUBouk7B"
      },
      "execution_count": 127,
      "outputs": []
    },
    {
      "cell_type": "markdown",
      "source": [
        "**Normalisation des nombres**"
      ],
      "metadata": {
        "id": "4k2mf7sAuatw"
      }
    },
    {
      "cell_type": "code",
      "source": [
        "def replace_numbers(texte):\n",
        "   \n",
        "    return re.sub(r'[0-9]+', 'nombre', texte)"
      ],
      "metadata": {
        "id": "yuAPkGXhulZQ"
      },
      "execution_count": 128,
      "outputs": []
    },
    {
      "cell_type": "markdown",
      "source": [
        "**Normalisation des dollars**"
      ],
      "metadata": {
        "id": "nCEmLIp0uZXQ"
      }
    },
    {
      "cell_type": "code",
      "source": [
        "def replace_dollars(texte):\n",
        "    \n",
        "    return re.sub(r\"\\$\", 'dollar', texte)"
      ],
      "metadata": {
        "id": "_EnhqwpQumAa"
      },
      "execution_count": 129,
      "outputs": []
    },
    {
      "cell_type": "markdown",
      "source": [
        "**Radicalisation de mots - word stemming**"
      ],
      "metadata": {
        "id": "Ke41HgKJuiXQ"
      }
    },
    {
      "cell_type": "code",
      "source": [
        "def radicalisation(texte):\n",
        "\n",
        "  new_text =[]  \n",
        "\n",
        "  #Separer les phrases en mots\n",
        "  texte = texte.split()\n",
        "\n",
        "  #Appliquer snowball stemmer sur chaque mot\n",
        "  for e in texte:\n",
        "        #Suppression de tout charactere non alphanumerique\n",
        "        e = re.sub('[^a-zA-Z0-9]', '', e)\n",
        "        \n",
        "        #Creation du stemmer\n",
        "        stemmer = SnowballStemmer(\"english\")\n",
        "        \n",
        "        #Radicalisation du mot\n",
        "        e = stemmer.stem(e.strip())\n",
        "\n",
        "        #Ne pas prendre en consideration les mots de longeur 1\n",
        "        if len(e) < 1:\n",
        "           continue\n",
        "\n",
        "        new_text.append(e)\n",
        "\n",
        "  final_text = \" \".join(new_text)\n",
        "\n",
        "\n",
        "  return final_text\n",
        " "
      ],
      "metadata": {
        "id": "7c697_pSueVg"
      },
      "execution_count": 130,
      "outputs": []
    },
    {
      "cell_type": "code",
      "source": [
        "texte = \"discount, discounts, discounted et discounting devront être tous remplacé par  discount, et include includes, included, et ncluded devront être tous remplacés par « includ ».\"\n",
        "rad = radicalisation(texte)\n",
        "print(rad)"
      ],
      "metadata": {
        "colab": {
          "base_uri": "https://localhost:8080/"
        },
        "id": "Hvv34N724Lbw",
        "outputId": "a42c3790-4814-455f-b347-7748c5ffec84"
      },
      "execution_count": 131,
      "outputs": [
        {
          "output_type": "stream",
          "name": "stdout",
          "text": [
            "discount discount discount et discount devront tre tous remplac par discount et includ includ includ et nclude devront tre tous remplac par includ\n"
          ]
        }
      ]
    },
    {
      "cell_type": "markdown",
      "source": [
        "**Suppression des non-mots**"
      ],
      "metadata": {
        "id": "a4sjPaKhwWKb"
      }
    },
    {
      "cell_type": "code",
      "source": [
        "def remove_non_mots(texte):\n",
        "  for x in texte:\n",
        "    if x in punctuation:\n",
        "        texte = texte.replace(x, \" \")\n",
        "\n",
        "  texte = re.sub(r\"\\n\", ' ', texte)\n",
        "  texte = re.sub(r\"\\t\", ' ', texte)\n",
        "  texte = re.sub(r\"\\s\", ' ', texte)\n",
        "  texte =re.sub(\"[ ]{2,}\", \" \", texte)\n",
        "    \n",
        "  return texte "
      ],
      "metadata": {
        "id": "49qxYqIU8t9J"
      },
      "execution_count": 132,
      "outputs": []
    },
    {
      "cell_type": "code",
      "source": [
        "def Preprocess(X): \n",
        "  i=0 \n",
        "  X_Preprocess =[]\n",
        "  for texte in X:\n",
        "    #print(i)\n",
        "    \n",
        "    texte = message_to_text(texte) or \"\"\n",
        "    texte = minuscule(texte)\n",
        "    texte = replace_numbers(texte)\n",
        "    texte = replace_dollars(texte)\n",
        "    texte = replace_urls(texte)\n",
        "    texte = replace_emails(texte)\n",
        "    texte = replace_html(texte)\n",
        "    texte = remove_non_mots(texte)\n",
        "    texte = radicalisation(texte)\n",
        "    X_Preprocess.append(texte)\n",
        "    #i=i+1\n",
        "  return X_Preprocess\n",
        "        \n"
      ],
      "metadata": {
        "id": "306fe1iUwKgW"
      },
      "execution_count": 133,
      "outputs": []
    },
    {
      "cell_type": "markdown",
      "source": [
        "*Test de toutes les fonctions*"
      ],
      "metadata": {
        "id": "-WUASiP-dO4g"
      }
    },
    {
      "cell_type": "code",
      "source": [
        "str1 = 'Anyone $$$$$ knows how much $ it costs to host a web portal ? Well, it depends on how many visitors youre expecting. This can be anywhere from less than 10 bucks a month to a couple of $100. You should checkout http://www.rackspace.com/ or perhaps Amazon EC2 if youre running something big.. To unsubscribe yourself from this mailing list, send an email to: groupname-unsubscribe@egroups.com'\n",
        "\n",
        "print(\"\\nAvant le preprocessing :\\n\",str1)\n",
        "str1 = minuscule(str1)\n",
        "str1 = replace_numbers(str1)\n",
        "str1 = replace_dollars(str1)\n",
        "\n",
        "str1 = replace_urls(str1)\n",
        "str1= replace_emails(str1)\n",
        "str1 = replace_html(str1)\n",
        "str1 = remove_non_mots(str1)\n",
        "str1=radicalisation(str1)\n",
        "\n",
        "print(\"\\nApres le preprocessing :\\n\",str1)\n"
      ],
      "metadata": {
        "colab": {
          "base_uri": "https://localhost:8080/"
        },
        "id": "sHHLxe8xdOpO",
        "outputId": "a1e2ed58-66bd-4ad9-b683-0eb0687909ce"
      },
      "execution_count": 134,
      "outputs": [
        {
          "output_type": "stream",
          "name": "stdout",
          "text": [
            "\n",
            "Avant le preprocessing :\n",
            " Anyone $$$$$ knows how much $ it costs to host a web portal ? Well, it depends on how many visitors youre expecting. This can be anywhere from less than 10 bucks a month to a couple of $100. You should checkout http://www.rackspace.com/ or perhaps Amazon EC2 if youre running something big.. To unsubscribe yourself from this mailing list, send an email to: groupname-unsubscribe@egroups.com\n",
            "\n",
            "Apres le preprocessing :\n",
            " anyon dollardollardollardollardollar know how much dollar it cost to host a web portal well it depend on how mani visitor your expect this can be anywher from less than nombr buck a month to a coupl of dollarnombr you should checkout httpaddr or perhap amazon ecnombr if your run someth big to unsubscrib yourself from this mail list send an email to emailaddr\n"
          ]
        }
      ]
    },
    {
      "cell_type": "markdown",
      "source": [
        "# **Feature extraction**"
      ],
      "metadata": {
        "id": "8NWJPKpE_vvx"
      }
    },
    {
      "cell_type": "code",
      "source": [
        "X_features = Preprocess(X)"
      ],
      "metadata": {
        "id": "ZUkf4stRf0VG"
      },
      "execution_count": 135,
      "outputs": []
    },
    {
      "cell_type": "code",
      "source": [
        "X_features[0]"
      ],
      "metadata": {
        "colab": {
          "base_uri": "https://localhost:8080/",
          "height": 122
        },
        "id": "JPSdPbm--pt0",
        "outputId": "546a0c86-f062-45d7-e479-e39edffd2fb4"
      },
      "execution_count": 136,
      "outputs": [
        {
          "output_type": "execute_result",
          "data": {
            "text/plain": [
              "'date tue nombr aug nombr nombr nombr nombr nombr from chris garrigu messag id i m hope that all peopl with no addit sequenc will notic are pure cosmet chang well first when exmh the latest one with your chang start i get can t read flist totalcount unseen no such element in array while execut if dollarflist totalcount dollarmhprofil unseen sequenc nombr flaginn spool iconspool labelup els flaginn down icondown labeldown procedur flag msgseen line nombr invok from within flag msgseen procedur msgseen line nombr invok from within msgseen dollarmsgid procedur msgshow line nombr invok from within msgshow dollarmsgid procedur msgchang line nombr invok from within msgchang nombr show invok from within time list msgchang dollarmsgid dollarshow procedur msg chang line nombr invok from within msg chang dollarmsg id dollarshow procedur msg show line nombr invok from within msg show cur eval bodi line nombr invok from within eval dollarmsgshowproc procedur folderchang line nombr invok from within folderchang inbox msg show cur invok from within time list folderchang dollarfold dollarmsgshowproc procedur folder chang line nombr invok from within folder chang dollarexmh folder procedur exmh line nombr invok from within exmh after script which is probabl relat to my not have an unseen sequenc anywher certain not in inbox i read all of my outstand mail befor i tri this new exmh second i ve been use to have a key bind which was to msg markunseen which doesn t seem to exist ani more and i m not sure what i should replac that with there s obvious a way as the sequenc menu doe this the mark unseen menu entri in the messag more menu is still want that function as well for those who have other sequenc defin the window will widen to display the other sequenc ani chanc of have that lengthen instead i like all my exmh stuff in nice column fit the display better that is i use the detach folder list one column the main exmh window take up full screen top to bottom but less than half the width etc i have space for more sequenc in the unseen window as long as they remain onc nice narrow window best would be if the sequenc could be order by some prefer then one which didn t fit would just fall off the bottom and not be shown i d also prefer it if that window had no unusu background colour just one constant colour i have been run the unseen window with background black on a root window that is all black with no border or other decor but made sticki the appear is just like the folder with unseen messag and their count are written into the root window becaus it is sticki this small display follow me around and do i can see when new mail need process i also find that i tend to have a bunch of sequenc that onli ever occur in one folder some i had forgotten i ever creat so in addit to the sequenc to alway show and sequenc to never show a prefer to onli show sequenc that occur in more than one folder would be use and then have the sequenc that occor onli in the folder i m visit appear in the list when that folder is current this is just to keep the list size somewhat manag while remain product i quit often use a sequenc to rememb a particular messag in a folder the name is use onli there and onli for one messag it give me a handl on the messag which remain as the folder is pack sort etc i haven t updat my exmh for some time now so i m not sure if this next one is new or just new sinc nombr nombr but the sequenc menu on the bar with new flist search onli contain unseen and urgent it would be use if it contain all of the sequenc that the folder happen to have defin a new sequenc entri would also be use to mark the messag with a sequenc name that didn t previous exist which can be done now use search and the pick interfac but is clumsi that way actual you onc could now when i tri this enter a sequenc name in the pick box and a singl messag number or a rang n n in the list of messag and no pick attribut at all i now get syntax error in express int nombr nombr nombr hit nombr nombr nombr nombr nombr nombr while execut expr int dollarminlineno nombr dollarmsgid dollarminmsgid dollarmaxlineno dollarminlineno nombr dollarmaxmsgid dollarminmsgid procedur ftoc findmsg line nombr invok from within ftoc findmsg dollarmsg procedur ftoc findmsg line nombr invok from within ftoc findmsg dollarmsgid procedur ftoc pickmsg line nombr invok from within ftoc pickmsg dollarpick id dollarpick addtosel procedur pickinn line nombr invok from within pickinn exec pick inbox list nombr sequenc mercuri uplevel bodi line nombr invok from within uplevel nombr dollarcmd procedur busycursorinn line nombr invok from within busycursorinn dollarcmd dollarwidget procedur busycursorhack line nombr invok from within busycursorhack dollararg cursor arm line nombr invok from within switch dollarbusi style icon busyicon dollararg cursoral busycursor dollararg cursor busycursorhack dollararg default eval dollararg procedur busi line nombr invok from within busi pickinn dollarcmd dollarmsg procedur pick it line nombr invok from within pick it invok from within pick but pick invok uplevel bodi line nombr invok from within uplevel nombr list dollarw invok procedur tkbuttonup line nombr invok from within tkbuttonup pick but pick command bound to event it has been age sinc i did this last though i tri ad a subject to pick on easi as i know what s in the messag which made no differ look as if someth is now say nombr hit when befor it didn t or similar i ve also chang the ftoc color as discuss briefli on the list a week or so ago ani chanc of make the current messag a littl brighter background just to make it stand out a fraction more than it doe mayb this is more appar to me than mani as i use veri small font everywher the background of the ftoc line isn t veri wide hope this help kre exmh worker mail list emailaddr httpaddr'"
            ],
            "application/vnd.google.colaboratory.intrinsic+json": {
              "type": "string"
            }
          },
          "metadata": {},
          "execution_count": 136
        }
      ]
    },
    {
      "cell_type": "code",
      "source": [
        "vocab = X_features\n",
        "vocab = ''.join(vocab)"
      ],
      "metadata": {
        "id": "f6ujAKWHBZAC"
      },
      "execution_count": 137,
      "outputs": []
    },
    {
      "cell_type": "code",
      "source": [
        "#Creation of vocabList\n",
        "def vocablist(X):\n",
        "\n",
        "  l = X.split()\n",
        "  word_counts = collections.Counter(l)\n",
        "\n",
        "  return word_counts"
      ],
      "metadata": {
        "id": "F8lvOTtDANOQ"
      },
      "execution_count": 138,
      "outputs": []
    },
    {
      "cell_type": "code",
      "source": [
        "f = vocablist(vocab)\n",
        "#Nous allons tester plusieurs k, k etant le nombre de mots dans notre vocabulaire\n",
        "number_k = [1000, 1500, 2000, 2500]\n",
        "for k in number_k:\n",
        "  common_element = f.most_common(k)\n",
        "\n"
      ],
      "metadata": {
        "id": "6bmo7-PRANLg"
      },
      "execution_count": 139,
      "outputs": []
    },
    {
      "cell_type": "code",
      "source": [
        "'''f = open(\"WORS_OCCURENCES.txt\", \"w\")\n",
        "for w, count in mostcom:\n",
        "    \n",
        "    f.write(w)\n",
        "    f.write(\"->\")\n",
        "    f.write(str(count))\n",
        "    f.write('\\n')'''\n",
        "\n",
        "\n"
      ],
      "metadata": {
        "colab": {
          "base_uri": "https://localhost:8080/",
          "height": 35
        },
        "id": "hfu8S0-RgxMq",
        "outputId": "ab8bc730-c90c-416d-a1c2-bb7741aafcfa"
      },
      "execution_count": 140,
      "outputs": [
        {
          "output_type": "execute_result",
          "data": {
            "text/plain": [
              "'f = open(\"WORS_OCCURENCES.txt\", \"w\")\\nfor w, count in mostcom:\\n    \\n    f.write(w)\\n    f.write(\"->\")\\n    f.write(str(count))\\n    f.write(\\'\\n\\')'"
            ],
            "application/vnd.google.colaboratory.intrinsic+json": {
              "type": "string"
            }
          },
          "metadata": {},
          "execution_count": 140
        }
      ]
    },
    {
      "cell_type": "markdown",
      "source": [
        "# **Create a feature vector to get the vocabulary list as it has a better time complexity**"
      ],
      "metadata": {
        "id": "ne9YqmGMEHd8"
      }
    },
    {
      "cell_type": "code",
      "source": [
        "def countVect(k):\n",
        "  count_vect = CountVectorizer(max_features=k,binary=True)\n",
        "  count_vect.fit(X_features)\n",
        "  x = count_vect.transform(X_features).toarray()\n",
        "  \n",
        "  return x"
      ],
      "metadata": {
        "id": "r6m6YkOMBZqd"
      },
      "execution_count": 141,
      "outputs": []
    },
    {
      "cell_type": "code",
      "source": [
        "x_1000 = countVect(1000)\n",
        "x_1500 = countVect(1500)\n",
        "x_2000 = countVect(2000)\n",
        "x_2500 = countVect(2500)"
      ],
      "metadata": {
        "id": "Z2UnNDTR2SKl"
      },
      "execution_count": 142,
      "outputs": []
    },
    {
      "cell_type": "code",
      "source": [
        "x_1500.shape, x_2000.shape, x_2500.shape"
      ],
      "metadata": {
        "colab": {
          "base_uri": "https://localhost:8080/"
        },
        "id": "HOCD_wvDHz-y",
        "outputId": "60507516-cb17-4db7-8a93-3f9073f50e53"
      },
      "execution_count": 143,
      "outputs": [
        {
          "output_type": "execute_result",
          "data": {
            "text/plain": [
              "((6098, 1500), (6098, 2000), (6098, 2500))"
            ]
          },
          "metadata": {},
          "execution_count": 143
        }
      ]
    },
    {
      "cell_type": "code",
      "source": [
        "X_train_1000, X_test_1000, y_train_1000, y_test_1000 = train_test_split(x_1000, y, random_state=0, train_size = .75)\n",
        "X_train_1500, X_test_1500, y_train_1500, y_test_1500 = train_test_split(x_1500, y, random_state=0, train_size = .75)\n",
        "X_train_2000, X_test_2000, y_train_2000, y_test_2000 = train_test_split(x_2000, y, random_state=0, train_size = .75)\n",
        "X_train_2500, X_test_2500, y_train_2500, y_test_2500 = train_test_split(x_2500, y, random_state=0, train_size = .75)\n"
      ],
      "metadata": {
        "id": "vgGKJWbIP6yI"
      },
      "execution_count": 144,
      "outputs": []
    },
    {
      "cell_type": "markdown",
      "source": [
        "# **Model training**"
      ],
      "metadata": {
        "id": "ylk3RIQHmrao"
      }
    },
    {
      "cell_type": "markdown",
      "source": [
        "# **SVM**"
      ],
      "metadata": {
        "id": "nDdzCTKbQ31P"
      }
    },
    {
      "cell_type": "code",
      "source": [
        ""
      ],
      "metadata": {
        "id": "qJabf6qOPRc_"
      },
      "execution_count": 144,
      "outputs": []
    },
    {
      "cell_type": "code",
      "source": [
        "def metriques(y_test, y_pred, name):\n",
        "\n",
        "  print(\"Le classifieurs : \", name)\n",
        "  print(\"Accuracy:\",metrics.accuracy_score(y_test, y_pred))\n",
        "  print(\"Precision:\",metrics.precision_score(y_test, y_pred))\n",
        "  print(\"Recall:\",metrics.recall_score(y_test, y_pred))\n",
        "  print(\"F1-score: \",metrics.f1_score(y_test, y_pred) )\n",
        "  print(confusion_matrix(y_test, y_pred))\n",
        "  "
      ],
      "metadata": {
        "id": "kzCq4zTTnGCv"
      },
      "execution_count": 145,
      "outputs": []
    },
    {
      "cell_type": "code",
      "source": [
        "def SVM(X_train, y_train, X_test, y_test):\n",
        "\n",
        "  svm = make_pipeline(StandardScaler(), SVC(gamma='auto'))\n",
        "  svm.fit(X_train, y_train)\n",
        "  Pipeline(steps=[('standardscaler', StandardScaler()), ('svc', SVC(gamma='auto'))])\n",
        "  y_pred = svm.predict(X_test)\n",
        "  metriques(y_test, y_pred, \"SVM\")\n",
        "  return y_pred"
      ],
      "metadata": {
        "id": "JCgsTDEmQ3X_"
      },
      "execution_count": 146,
      "outputs": []
    },
    {
      "cell_type": "code",
      "source": [
        "print(\"\\nPour k = 1000\\n\")\n",
        "SVM(X_train_1000, y_train_1000, X_test_1000, y_test_1000)\n",
        "print(\"\\nPour k = 1500\\n\")\n",
        "SVM(X_train_1500, y_train_1500, X_test_1500, y_test_1500)\n",
        "print(\"\\nPour k = 2000\\n\")\n",
        "ypred_svm =SVM(X_train_2000, y_train_2000, X_test_2000, y_test_2000)\n",
        "\n",
        "print(\"\\nPour k = 2500\\n\")\n",
        "SVM(X_train_2500, y_train_2500, X_test_2500, y_test_2500)"
      ],
      "metadata": {
        "colab": {
          "base_uri": "https://localhost:8080/"
        },
        "id": "Q1_fIPO614Sr",
        "outputId": "1b85b3fa-c169-4c38-c02e-53429eba0c0f"
      },
      "execution_count": 147,
      "outputs": [
        {
          "output_type": "stream",
          "name": "stdout",
          "text": [
            "\n",
            "Pour k = 1000\n",
            "\n",
            "Le classifieurs :  SVM\n",
            "Accuracy: 0.9737704918032787\n",
            "Precision: 0.9862068965517241\n",
            "Recall: 0.9265658747300216\n",
            "F1-score:  0.955456570155902\n",
            "[[1056    6]\n",
            " [  34  429]]\n",
            "\n",
            "Pour k = 1500\n",
            "\n",
            "Le classifieurs :  SVM\n",
            "Accuracy: 0.9711475409836066\n",
            "Precision: 0.9860788863109049\n",
            "Recall: 0.91792656587473\n",
            "F1-score:  0.9507829977628635\n",
            "[[1056    6]\n",
            " [  38  425]]\n",
            "\n",
            "Pour k = 2000\n",
            "\n",
            "Le classifieurs :  SVM\n",
            "Accuracy: 0.9704918032786886\n",
            "Precision: 0.9837962962962963\n",
            "Recall: 0.91792656587473\n",
            "F1-score:  0.9497206703910615\n",
            "[[1055    7]\n",
            " [  38  425]]\n",
            "\n",
            "Pour k = 2500\n",
            "\n",
            "Le classifieurs :  SVM\n",
            "Accuracy: 0.9685245901639344\n",
            "Precision: 0.9859484777517564\n",
            "Recall: 0.9092872570194385\n",
            "F1-score:  0.946067415730337\n",
            "[[1056    6]\n",
            " [  42  421]]\n"
          ]
        },
        {
          "output_type": "execute_result",
          "data": {
            "text/plain": [
              "array([0, 1, 1, ..., 1, 0, 0])"
            ]
          },
          "metadata": {},
          "execution_count": 147
        }
      ]
    },
    {
      "cell_type": "markdown",
      "source": [
        "# **Gaussian Native Bayes**"
      ],
      "metadata": {
        "id": "RGJoQjXof6to"
      }
    },
    {
      "cell_type": "code",
      "source": [
        "def Gaussian(X_train, y_train, X_test, y_test):\n",
        "\n",
        "  gnb = GaussianNB()\n",
        "  y_pred2 = gnb.fit(X_train, y_train).predict(X_test)\n",
        "  metriques(y_test, y_pred2, \"Gaussian\")\n",
        "  return y_pred2"
      ],
      "metadata": {
        "id": "7vyWAxBiXNOl"
      },
      "execution_count": 148,
      "outputs": []
    },
    {
      "cell_type": "code",
      "source": [
        "print(\"\\nPour k = 1000\\n\")\n",
        "Gaussian(X_train_1000, y_train_1000, X_test_1000, y_test_1000)\n",
        "print(\"\\nPour k = 1500\\n\")\n",
        "Gaussian(X_train_1500, y_train_1500, X_test_1500, y_test_1500)\n",
        "print(\"\\nPour k = 2000\\n\")\n",
        "y_pred_gauss=Gaussian(X_train_2000, y_train_2000, X_test_2000, y_test_2000)\n",
        "print(\"\\nPour k = 2500\\n\")\n",
        "Gaussian(X_train_2500, y_train_2500, X_test_2500, y_test_2500)"
      ],
      "metadata": {
        "colab": {
          "base_uri": "https://localhost:8080/"
        },
        "id": "kXaCQAAvCkN8",
        "outputId": "761bbeca-17e7-4457-e3a1-9b60bce63af4"
      },
      "execution_count": 149,
      "outputs": [
        {
          "output_type": "stream",
          "name": "stdout",
          "text": [
            "\n",
            "Pour k = 1000\n",
            "\n",
            "Le classifieurs :  Gaussian\n",
            "Accuracy: 0.8747540983606558\n",
            "Precision: 0.7172523961661342\n",
            "Recall: 0.9697624190064795\n",
            "F1-score:  0.8246097337006428\n",
            "[[885 177]\n",
            " [ 14 449]]\n",
            "\n",
            "Pour k = 1500\n",
            "\n",
            "Le classifieurs :  Gaussian\n",
            "Accuracy: 0.8262295081967214\n",
            "Precision: 0.6451612903225806\n",
            "Recall: 0.9503239740820735\n",
            "F1-score:  0.7685589519650655\n",
            "[[820 242]\n",
            " [ 23 440]]\n",
            "\n",
            "Pour k = 2000\n",
            "\n",
            "Le classifieurs :  Gaussian\n",
            "Accuracy: 0.8380327868852459\n",
            "Precision: 0.6636363636363637\n",
            "Recall: 0.9460043196544277\n",
            "F1-score:  0.7800534283170081\n",
            "[[840 222]\n",
            " [ 25 438]]\n",
            "\n",
            "Pour k = 2500\n",
            "\n",
            "Le classifieurs :  Gaussian\n",
            "Accuracy: 0.8321311475409836\n",
            "Precision: 0.6561085972850679\n",
            "Recall: 0.9395248380129589\n",
            "F1-score:  0.7726465364120781\n",
            "[[834 228]\n",
            " [ 28 435]]\n"
          ]
        },
        {
          "output_type": "execute_result",
          "data": {
            "text/plain": [
              "array([0, 1, 1, ..., 1, 0, 0])"
            ]
          },
          "metadata": {},
          "execution_count": 149
        }
      ]
    },
    {
      "cell_type": "markdown",
      "source": [
        "# **Naive Bayes classifier for multinomial models. (discrete)** "
      ],
      "metadata": {
        "id": "sM_Uru5KXMDr"
      }
    },
    {
      "cell_type": "code",
      "source": [
        "def Bayes(X_train, y_train, X_test, y_test):\n",
        "  gnb = MultinomialNB()\n",
        "  y_predMNB = gnb.fit(X_train, y_train).predict(X_test)\n",
        "  metriques(y_test, y_predMNB, \"Multinomnial Naive Bayes\" )\n",
        "  return y_predMNB"
      ],
      "metadata": {
        "id": "2TEl4d1OfoQI"
      },
      "execution_count": 150,
      "outputs": []
    },
    {
      "cell_type": "code",
      "source": [
        "print(\"\\nPour k = 1000\\n\")\n",
        "Bayes(X_train_1000, y_train_1000, X_test_1000, y_test_1000)\n",
        "print(\"\\nPour k = 1500\\n\")\n",
        "Bayes(X_train_1500, y_train_1500, X_test_1500, y_test_1500)\n",
        "print(\"\\nPour k = 2000\\n\")\n",
        "y_pred_MNB=Bayes(X_train_2000, y_train_2000, X_test_2000, y_test_2000)\n",
        "\n",
        "print(\"\\nPour k = 2500\\n\")\n",
        "Bayes(X_train_2500, y_train_2500, X_test_2500, y_test_2500)"
      ],
      "metadata": {
        "colab": {
          "base_uri": "https://localhost:8080/"
        },
        "id": "N-B5sADgDBBI",
        "outputId": "2abda508-8657-4f1b-a0e9-b8fcd260df1c"
      },
      "execution_count": 151,
      "outputs": [
        {
          "output_type": "stream",
          "name": "stdout",
          "text": [
            "\n",
            "Pour k = 1000\n",
            "\n",
            "Le classifieurs :  Multinomnial Naive Bayes\n",
            "Accuracy: 0.9685245901639344\n",
            "Precision: 0.9501084598698482\n",
            "Recall: 0.9460043196544277\n",
            "F1-score:  0.948051948051948\n",
            "[[1039   23]\n",
            " [  25  438]]\n",
            "\n",
            "Pour k = 1500\n",
            "\n",
            "Le classifieurs :  Multinomnial Naive Bayes\n",
            "Accuracy: 0.9718032786885246\n",
            "Precision: 0.9565217391304348\n",
            "Recall: 0.9503239740820735\n",
            "F1-score:  0.9534127843986999\n",
            "[[1042   20]\n",
            " [  23  440]]\n",
            "\n",
            "Pour k = 2000\n",
            "\n",
            "Le classifieurs :  Multinomnial Naive Bayes\n",
            "Accuracy: 0.9711475409836066\n",
            "Precision: 0.9544468546637744\n",
            "Recall: 0.9503239740820735\n",
            "F1-score:  0.9523809523809523\n",
            "[[1041   21]\n",
            " [  23  440]]\n",
            "\n",
            "Pour k = 2500\n",
            "\n",
            "Le classifieurs :  Multinomnial Naive Bayes\n",
            "Accuracy: 0.9711475409836066\n",
            "Precision: 0.9544468546637744\n",
            "Recall: 0.9503239740820735\n",
            "F1-score:  0.9523809523809523\n",
            "[[1041   21]\n",
            " [  23  440]]\n"
          ]
        },
        {
          "output_type": "execute_result",
          "data": {
            "text/plain": [
              "array([0, 1, 1, ..., 1, 0, 0])"
            ]
          },
          "metadata": {},
          "execution_count": 151
        }
      ]
    },
    {
      "cell_type": "markdown",
      "source": [
        "# **Logistic regression**"
      ],
      "metadata": {
        "id": "_qGm534vXdDc"
      }
    },
    {
      "cell_type": "code",
      "source": [
        "def Log_Reg(X_train, y_train, X_test, y_test):\n",
        "  lr = LogisticRegression(random_state=0).fit(X_train, y_train)\n",
        "  y_pred3=lr.predict(X_test)\n",
        "  metriques(y_test, y_pred3, \"Logistic Regression\")\n",
        "  return y_pred3"
      ],
      "metadata": {
        "id": "DKFZ5ErYXhqH"
      },
      "execution_count": 152,
      "outputs": []
    },
    {
      "cell_type": "code",
      "source": [
        "print(\"\\nPour k = 1000\\n\")\n",
        "Log_Reg(X_train_1000, y_train_1000, X_test_1000, y_test_1000)\n",
        "print(\"\\nPour k = 1500\\n\")\n",
        "Log_Reg(X_train_1500, y_train_1500, X_test_1500, y_test_1500)\n",
        "print(\"\\nPour k = 2000\\n\")\n",
        "y_pred_lr =Log_Reg(X_train_2000, y_train_2000, X_test_2000, y_test_2000)\n",
        "print(\"\\nPour k = 2500\\n\")\n",
        "Log_Reg(X_train_2500, y_train_2500, X_test_2500, y_test_2500)"
      ],
      "metadata": {
        "colab": {
          "base_uri": "https://localhost:8080/"
        },
        "id": "u5kJ7JZdD-Zl",
        "outputId": "2caa94f1-4d92-4de5-9c36-fa086f170237"
      },
      "execution_count": 153,
      "outputs": [
        {
          "output_type": "stream",
          "name": "stdout",
          "text": [
            "\n",
            "Pour k = 1000\n",
            "\n",
            "Le classifieurs :  Logistic Regression\n",
            "Accuracy: 0.9790163934426229\n",
            "Precision: 0.9654427645788337\n",
            "Recall: 0.9654427645788337\n",
            "F1-score:  0.9654427645788337\n",
            "[[1046   16]\n",
            " [  16  447]]\n",
            "\n",
            "Pour k = 1500\n",
            "\n",
            "Le classifieurs :  Logistic Regression\n",
            "Accuracy: 0.980327868852459\n",
            "Precision: 0.9696312364425163\n",
            "Recall: 0.9654427645788337\n",
            "F1-score:  0.9675324675324676\n",
            "[[1048   14]\n",
            " [  16  447]]\n",
            "\n",
            "Pour k = 2000\n",
            "\n",
            "Le classifieurs :  Logistic Regression\n",
            "Accuracy: 0.9790163934426229\n",
            "Precision: 0.9634408602150538\n",
            "Recall: 0.9676025917926566\n",
            "F1-score:  0.9655172413793104\n",
            "[[1045   17]\n",
            " [  15  448]]\n",
            "\n",
            "Pour k = 2500\n",
            "\n",
            "Le classifieurs :  Logistic Regression\n",
            "Accuracy: 0.980327868852459\n",
            "Precision: 0.9676025917926566\n",
            "Recall: 0.9676025917926566\n",
            "F1-score:  0.9676025917926566\n",
            "[[1047   15]\n",
            " [  15  448]]\n"
          ]
        },
        {
          "output_type": "execute_result",
          "data": {
            "text/plain": [
              "array([0, 1, 1, ..., 1, 0, 0])"
            ]
          },
          "metadata": {},
          "execution_count": 153
        }
      ]
    },
    {
      "cell_type": "markdown",
      "source": [
        "# **Decison Tree**"
      ],
      "metadata": {
        "id": "u_N34Z1t9KRk"
      }
    },
    {
      "cell_type": "code",
      "source": [
        "def Decision_Tree(X_train, y_train, X_test, y_test):\n",
        "  \n",
        "  DCT = tree.DecisionTreeClassifier().fit(X_train, y_train)\n",
        "  y_pred4 = DCT.predict(X_test)\n",
        "  metriques(y_test, y_pred4, \"Decision Tree\")\n",
        "  return y_pred4"
      ],
      "metadata": {
        "id": "Qp6Q1TUt9QAt"
      },
      "execution_count": 154,
      "outputs": []
    },
    {
      "cell_type": "code",
      "source": [
        "print(\"\\nPour k = 1000\\n\")\n",
        "Decision_Tree(X_train_1000, y_train_1000, X_test_1000, y_test_1000)\n",
        "print(\"\\nPour k = 1500\\n\")\n",
        "Decision_Tree(X_train_1500, y_train_1500, X_test_1500, y_test_1500)\n",
        "print(\"\\nPour k = 2000\\n\")\n",
        "y_pred_dt=Decision_Tree(X_train_2000, y_train_2000, X_test_2000, y_test_2000)\n",
        "print(\"\\nPour k = 2500\\n\")\n",
        "Decision_Tree(X_train_2500, y_train_2500, X_test_2500, y_test_2500)"
      ],
      "metadata": {
        "colab": {
          "base_uri": "https://localhost:8080/"
        },
        "id": "BKyAizU-Fsym",
        "outputId": "7fba2827-732b-4408-e737-7a45cab37c65"
      },
      "execution_count": 155,
      "outputs": [
        {
          "output_type": "stream",
          "name": "stdout",
          "text": [
            "\n",
            "Pour k = 1000\n",
            "\n",
            "Le classifieurs :  Decision Tree\n",
            "Accuracy: 0.9350819672131148\n",
            "Precision: 0.8729508196721312\n",
            "Recall: 0.9200863930885529\n",
            "F1-score:  0.8958990536277601\n",
            "[[1000   62]\n",
            " [  37  426]]\n",
            "\n",
            "Pour k = 1500\n",
            "\n",
            "Le classifieurs :  Decision Tree\n",
            "Accuracy: 0.9285245901639344\n",
            "Precision: 0.875\n",
            "Recall: 0.8920086393088553\n",
            "F1-score:  0.8834224598930481\n",
            "[[1003   59]\n",
            " [  50  413]]\n",
            "\n",
            "Pour k = 2000\n",
            "\n",
            "Le classifieurs :  Decision Tree\n",
            "Accuracy: 0.939016393442623\n",
            "Precision: 0.8854166666666666\n",
            "Recall: 0.91792656587473\n",
            "F1-score:  0.9013785790031813\n",
            "[[1007   55]\n",
            " [  38  425]]\n",
            "\n",
            "Pour k = 2500\n",
            "\n",
            "Le classifieurs :  Decision Tree\n",
            "Accuracy: 0.940327868852459\n",
            "Precision: 0.8940677966101694\n",
            "Recall: 0.9114470842332614\n",
            "F1-score:  0.902673796791444\n",
            "[[1012   50]\n",
            " [  41  422]]\n"
          ]
        },
        {
          "output_type": "execute_result",
          "data": {
            "text/plain": [
              "array([0, 1, 1, ..., 1, 0, 0])"
            ]
          },
          "metadata": {},
          "execution_count": 155
        }
      ]
    },
    {
      "cell_type": "markdown",
      "source": [
        "# **NEURAL NETWORK**"
      ],
      "metadata": {
        "id": "CAZ8ueXza4Nj"
      }
    },
    {
      "cell_type": "code",
      "source": [
        "def Multilayer_neural_network(X_train, y_train, X_test, y_test):\n",
        "  nn = MLPClassifier(solver='lbfgs', alpha=1e-5,hidden_layer_sizes=(5, 2), random_state=1).fit(X_train, y_train)\n",
        "  y_predNN= nn.predict(X_test)\n",
        "  metriques(y_test, y_predNN, \"Neural Network\")\n",
        "  return y_predNN"
      ],
      "metadata": {
        "id": "JjG4IXd6a6Hy"
      },
      "execution_count": 156,
      "outputs": []
    },
    {
      "cell_type": "code",
      "source": [
        "print(\"\\nPour k = 1000\\n\")\n",
        "Multilayer_neural_network(X_train_1000, y_train_1000, X_test_1000, y_test_1000)\n",
        "print(\"\\nPour k = 1500\\n\")\n",
        "Multilayer_neural_network(X_train_1500, y_train_1500, X_test_1500, y_test_1500)\n",
        "print(\"\\nPour k = 2000\\n\")\n",
        "y_pred_nn =Multilayer_neural_network(X_train_2000, y_train_2000, X_test_2000, y_test_2000)\n",
        "print(\"\\nPour k = 2500\\n\")\n",
        "Multilayer_neural_network(X_train_2500, y_train_2500, X_test_2500, y_test_2500)"
      ],
      "metadata": {
        "colab": {
          "base_uri": "https://localhost:8080/"
        },
        "id": "h266Rs9XL_KI",
        "outputId": "ebde09a1-8aa7-4d2a-d6f6-e44e1cf79c3a"
      },
      "execution_count": 157,
      "outputs": [
        {
          "output_type": "stream",
          "name": "stdout",
          "text": [
            "\n",
            "Pour k = 1000\n",
            "\n",
            "Le classifieurs :  Neural Network\n",
            "Accuracy: 0.9783606557377049\n",
            "Precision: 0.973568281938326\n",
            "Recall: 0.9546436285097192\n",
            "F1-score:  0.9640130861504908\n",
            "[[1050   12]\n",
            " [  21  442]]\n",
            "\n",
            "Pour k = 1500\n",
            "\n",
            "Le classifieurs :  Neural Network\n",
            "Accuracy: 0.9763934426229508\n",
            "Precision: 0.9591397849462365\n",
            "Recall: 0.9632829373650108\n",
            "F1-score:  0.9612068965517242\n",
            "[[1043   19]\n",
            " [  17  446]]\n",
            "\n",
            "Pour k = 2000\n",
            "\n",
            "Le classifieurs :  Neural Network\n",
            "Accuracy: 0.980327868852459\n",
            "Precision: 0.9696312364425163\n",
            "Recall: 0.9654427645788337\n",
            "F1-score:  0.9675324675324676\n",
            "[[1048   14]\n",
            " [  16  447]]\n",
            "\n",
            "Pour k = 2500\n",
            "\n",
            "Le classifieurs :  Neural Network\n",
            "Accuracy: 0.9777049180327869\n",
            "Precision: 0.9714285714285714\n",
            "Recall: 0.9546436285097192\n",
            "F1-score:  0.9629629629629629\n",
            "[[1049   13]\n",
            " [  21  442]]\n"
          ]
        },
        {
          "output_type": "execute_result",
          "data": {
            "text/plain": [
              "array([0, 1, 1, ..., 1, 0, 0])"
            ]
          },
          "metadata": {},
          "execution_count": 157
        }
      ]
    },
    {
      "cell_type": "markdown",
      "source": [
        "# **Handeling class imbalence with SMOTE et K= 2000**"
      ],
      "metadata": {
        "id": "fXFMLvsuLbf6"
      }
    },
    {
      "cell_type": "code",
      "source": [
        "ham = np.array(ham_emails)\n",
        "spam = np.array(spam_emails)\n",
        "\n",
        "colors =['blue','red']\n",
        "\n",
        "plt.figure(figsize=(8, 5))\n",
        "sns.countplot(x = ['ham_train']*(y_train_2000.shape[0]-np.sum(y_train_2000)) + ['spam_train']*np.sum(y_train_2000) , palette=colors)\n",
        "plt.show"
      ],
      "metadata": {
        "colab": {
          "base_uri": "https://localhost:8080/",
          "height": 428
        },
        "id": "yZUnZxqULcI_",
        "outputId": "a202a527-5c61-4ac3-e87e-3c13bc108768"
      },
      "execution_count": 158,
      "outputs": [
        {
          "output_type": "stream",
          "name": "stderr",
          "text": [
            "/usr/local/lib/python3.7/dist-packages/ipykernel_launcher.py:1: VisibleDeprecationWarning: Creating an ndarray from ragged nested sequences (which is a list-or-tuple of lists-or-tuples-or ndarrays with different lengths or shapes) is deprecated. If you meant to do this, you must specify 'dtype=object' when creating the ndarray.\n",
            "  \"\"\"Entry point for launching an IPython kernel.\n",
            "/usr/local/lib/python3.7/dist-packages/ipykernel_launcher.py:2: VisibleDeprecationWarning: Creating an ndarray from ragged nested sequences (which is a list-or-tuple of lists-or-tuples-or ndarrays with different lengths or shapes) is deprecated. If you meant to do this, you must specify 'dtype=object' when creating the ndarray.\n",
            "  \n"
          ]
        },
        {
          "output_type": "execute_result",
          "data": {
            "text/plain": [
              "<function matplotlib.pyplot.show>"
            ]
          },
          "metadata": {},
          "execution_count": 158
        },
        {
          "output_type": "display_data",
          "data": {
            "text/plain": [
              "<Figure size 576x360 with 1 Axes>"
            ],
            "image/png": "[encoded data removed]"
          },
          "metadata": {
            "needs_background": "light"
          }
        }
      ]
    },
    {
      "cell_type": "code",
      "source": [
        "from imblearn.over_sampling import SMOTE\n",
        "smt = SMOTE()\n",
        "X_smote, y_smote = smt.fit_resample(X_train_2000, y_train_2000)"
      ],
      "metadata": {
        "id": "FXF4QWNKMl9R"
      },
      "execution_count": 159,
      "outputs": []
    },
    {
      "cell_type": "code",
      "source": [
        "ham = np.array(ham_emails)\n",
        "spam = np.array(spam_emails)\n",
        "\n",
        "colors =['blue','red']\n",
        "\n",
        "plt.figure(figsize=(8, 5))\n",
        "sns.countplot(x = ['ham_train']*(y_smote.shape[0]-np.sum(y_smote)) + ['spam_train']*np.sum(y_smote) , palette=colors)\n",
        "plt.show"
      ],
      "metadata": {
        "colab": {
          "base_uri": "https://localhost:8080/",
          "height": 428
        },
        "id": "am3UwuxrMqDh",
        "outputId": "4824bfee-a5a4-48f9-8ab1-4f365404c496"
      },
      "execution_count": 160,
      "outputs": [
        {
          "output_type": "stream",
          "name": "stderr",
          "text": [
            "/usr/local/lib/python3.7/dist-packages/ipykernel_launcher.py:1: VisibleDeprecationWarning: Creating an ndarray from ragged nested sequences (which is a list-or-tuple of lists-or-tuples-or ndarrays with different lengths or shapes) is deprecated. If you meant to do this, you must specify 'dtype=object' when creating the ndarray.\n",
            "  \"\"\"Entry point for launching an IPython kernel.\n",
            "/usr/local/lib/python3.7/dist-packages/ipykernel_launcher.py:2: VisibleDeprecationWarning: Creating an ndarray from ragged nested sequences (which is a list-or-tuple of lists-or-tuples-or ndarrays with different lengths or shapes) is deprecated. If you meant to do this, you must specify 'dtype=object' when creating the ndarray.\n",
            "  \n"
          ]
        },
        {
          "output_type": "execute_result",
          "data": {
            "text/plain": [
              "<function matplotlib.pyplot.show>"
            ]
          },
          "metadata": {},
          "execution_count": 160
        },
        {
          "output_type": "display_data",
          "data": {
            "text/plain": [
              "<Figure size 576x360 with 1 Axes>"
            ],
            "image/png": "[encoded data removed]"
          },
          "metadata": {
            "needs_background": "light"
          }
        }
      ]
    },
    {
      "cell_type": "code",
      "source": [
        "ypredgaussSmote=Gaussian(X_smote, y_smote, X_test_2000, y_test_2000)\n",
        "ypredSvmSmote=SVM(X_smote, y_smote, X_test_2000, y_test_2000)\n",
        "ypredBayesSmote=Bayes(X_smote, y_smote, X_test_2000, y_test_2000)\n",
        "ypredLog_RegSmote=Log_Reg(X_smote, y_smote, X_test_2000, y_test_2000)\n",
        "ypredDecision_TreeSmote=Decision_Tree(X_smote, y_smote, X_test_2000, y_test_2000)\n",
        "ypredMultilayer_neural_networkSmote=Multilayer_neural_network(X_smote, y_smote, X_test_2000, y_test_2000)"
      ],
      "metadata": {
        "colab": {
          "base_uri": "https://localhost:8080/"
        },
        "id": "pFAWhiknMwVB",
        "outputId": "61f38a9e-df8e-450d-9ba8-22a6b1669f30"
      },
      "execution_count": 161,
      "outputs": [
        {
          "output_type": "stream",
          "name": "stdout",
          "text": [
            "Le classifieurs :  Gaussian\n",
            "Accuracy: 0.8524590163934426\n",
            "Precision: 0.6996644295302014\n",
            "Recall: 0.9006479481641468\n",
            "F1-score:  0.7875354107648725\n",
            "[[883 179]\n",
            " [ 46 417]]\n",
            "Le classifieurs :  SVM\n",
            "Accuracy: 0.9678688524590164\n",
            "Precision: 0.9620535714285714\n",
            "Recall: 0.9308855291576674\n",
            "F1-score:  0.9462129527991219\n",
            "[[1045   17]\n",
            " [  32  431]]\n",
            "Le classifieurs :  Multinomnial Naive Bayes\n",
            "Accuracy: 0.9718032786885246\n",
            "Precision: 0.9625550660792952\n",
            "Recall: 0.9438444924406048\n",
            "F1-score:  0.9531079607415485\n",
            "[[1045   17]\n",
            " [  26  437]]\n",
            "Le classifieurs :  Logistic Regression\n",
            "Accuracy: 0.9763934426229508\n",
            "Precision: 0.9532908704883227\n",
            "Recall: 0.9697624190064795\n",
            "F1-score:  0.961456102783726\n",
            "[[1040   22]\n",
            " [  14  449]]\n",
            "Le classifieurs :  Decision Tree\n",
            "Accuracy: 0.9350819672131148\n",
            "Precision: 0.8807531380753139\n",
            "Recall: 0.9092872570194385\n",
            "F1-score:  0.8947927736450584\n",
            "[[1005   57]\n",
            " [  42  421]]\n",
            "Le classifieurs :  Neural Network\n",
            "Accuracy: 0.9790163934426229\n",
            "Precision: 0.961456102783726\n",
            "Recall: 0.9697624190064795\n",
            "F1-score:  0.9655913978494624\n",
            "[[1044   18]\n",
            " [  14  449]]\n"
          ]
        }
      ]
    },
    {
      "cell_type": "markdown",
      "source": [
        "# **Comparing**"
      ],
      "metadata": {
        "id": "lzkB5D1xnGtQ"
      }
    },
    {
      "cell_type": "markdown",
      "source": [
        "## **Machine learning VS deep learning**"
      ],
      "metadata": {
        "id": "1udbbBDanMVw"
      }
    },
    {
      "cell_type": "markdown",
      "source": [
        "ROC CURVE"
      ],
      "metadata": {
        "id": "7djWM9kxOqzr"
      }
    },
    {
      "cell_type": "code",
      "source": [
        "\n",
        "fpr, tpr, _ = metrics.roc_curve(y_test_2000, ypred_svm)\n",
        "auc = round(metrics.roc_auc_score(y_test_2000, ypred_svm), 10)\n",
        "plt.plot(fpr,tpr,label=\"Support vector machine, AUC=\"+str(auc))\n",
        "\n",
        "fpr, tpr, _ = metrics.roc_curve(y_test_2000, y_pred_gauss)\n",
        "auc = round(metrics.roc_auc_score(y_test_2000, y_pred_gauss), 10)\n",
        "plt.plot(fpr,tpr,label=\"Gaussian native bayes, AUC=\"+str(auc))\n",
        "\n",
        "fpr, tpr, _ = metrics.roc_curve(y_test_2000,  y_pred_dt)\n",
        "auc = round(metrics.roc_auc_score(y_test_2000,  y_pred_dt), 10)\n",
        "plt.plot(fpr,tpr,label=\"decision tree, AUC=\"+str(auc))\n",
        "\n",
        "fpr, tpr, _ = metrics.roc_curve(y_test_2000, y_pred_lr)\n",
        "auc = round(metrics.roc_auc_score(y_test_2000, y_pred_lr), 10)\n",
        "plt.plot(fpr,tpr,label=\"logistic regression, AUC=\"+str(auc))\n",
        "\n",
        "fpr, tpr, _ = metrics.roc_curve(y_test_2000,y_pred_MNB)\n",
        "auc = round(metrics.roc_auc_score(y_test_2000, y_pred_MNB), 10)\n",
        "plt.plot(fpr,tpr,label=\"Multinomial native bayes, AUC=\"+str(auc))\n",
        "\n",
        "\n",
        "fpr, tpr, _ = metrics.roc_curve(y_test_2000,y_pred_nn)\n",
        "auc = round(metrics.roc_auc_score(y_test_2000, y_pred_nn), 10)\n",
        "plt.plot(fpr,tpr,label=\"Multilayer neural network, AUC=\"+str(auc))\n",
        "plt.ylabel('True Positive Rate')\n",
        "plt.xlabel('False Positive Rate')\n",
        "plt.legend()\n",
        "plt.rcParams[\"figure.figsize\"] = (10,10)"
      ],
      "metadata": {
        "colab": {
          "base_uri": "https://localhost:8080/",
          "height": 606
        },
        "id": "xU4__ADWRis2",
        "outputId": "0930a3f1-222d-4b74-b500-11eb1980fbdd"
      },
      "execution_count": 162,
      "outputs": [
        {
          "output_type": "display_data",
          "data": {
            "text/plain": [
              "<Figure size 720x720 with 1 Axes>"
            ],
            "image/png": "[encoded data removed]"
          },
          "metadata": {
            "needs_background": "light"
          }
        }
      ]
    },
    {
      "cell_type": "markdown",
      "source": [
        "# **Smote Machine learning Vs Deep learning**"
      ],
      "metadata": {
        "id": "2bvTtVwJVBHo"
      }
    },
    {
      "cell_type": "code",
      "source": [
        "\n",
        "fpr, tpr, _ = metrics.roc_curve(y_test_2000, ypredSvmSmote)\n",
        "auc = round(metrics.roc_auc_score(y_test_2000, ypredSvmSmote), 10)\n",
        "plt.plot(fpr,tpr,label=\"Support vector machine, AUC=\"+str(auc))\n",
        "\n",
        "fpr, tpr, _ = metrics.roc_curve(y_test_2000, ypredgaussSmote)\n",
        "auc = round(metrics.roc_auc_score(y_test_2000, ypredgaussSmote), 10)\n",
        "plt.plot(fpr,tpr,label=\"Gaussian native bayes, AUC=\"+str(auc))\n",
        "\n",
        "fpr, tpr, _ = metrics.roc_curve(y_test_2000, ypredDecision_TreeSmote)\n",
        "auc = round(metrics.roc_auc_score(y_test_2000, ypredDecision_TreeSmote), 10)\n",
        "plt.plot(fpr,tpr,label=\"decision tree, AUC=\"+str(auc))\n",
        "\n",
        "fpr, tpr, _ = metrics.roc_curve(y_test_2000, ypredLog_RegSmote)\n",
        "auc = round(metrics.roc_auc_score(y_test_2000, ypredLog_RegSmote), 10)\n",
        "plt.plot(fpr,tpr,label=\"logistic regression, AUC=\"+str(auc))\n",
        "\n",
        "fpr, tpr, _ = metrics.roc_curve(y_test_2000,ypredBayesSmote)\n",
        "auc = round(metrics.roc_auc_score(y_test_2000, ypredBayesSmote), 10)\n",
        "plt.plot(fpr,tpr,label=\"Multinomial native bayes, AUC=\"+str(auc))\n",
        "\n",
        "\n",
        "fpr, tpr, _ = metrics.roc_curve(y_test_2000,ypredMultilayer_neural_networkSmote)\n",
        "auc = round(metrics.roc_auc_score(y_test_2000, ypredMultilayer_neural_networkSmote), 10)\n",
        "plt.plot(fpr,tpr,label=\"Multilayer neural network, AUC=\"+str(auc))\n",
        "plt.ylabel('True Positive Rate')\n",
        "plt.xlabel('False Positive Rate')\n",
        "plt.legend()\n",
        "plt.rcParams[\"figure.figsize\"] = (10,10)"
      ],
      "metadata": {
        "colab": {
          "base_uri": "https://localhost:8080/",
          "height": 606
        },
        "id": "tlWuJIqNVEfC",
        "outputId": "e8cdb9ba-9d69-44fa-eda6-df848c8f30b9"
      },
      "execution_count": 163,
      "outputs": [
        {
          "output_type": "display_data",
          "data": {
            "text/plain": [
              "<Figure size 720x720 with 1 Axes>"
            ],
            "image/png": "[encoded data removed]"
          },
          "metadata": {
            "needs_background": "light"
          }
        }
      ]
    }
  ]
}